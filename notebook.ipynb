{
 "cells": [
  {
   "cell_type": "code",
   "execution_count": null,
   "metadata": {},
   "outputs": [],
   "source": [
    "import openai\n",
    "\n",
    "client = openai.OpenAI(api_key=\"\")"
   ]
  },
  {
   "cell_type": "code",
   "execution_count": 47,
   "metadata": {},
   "outputs": [],
   "source": [
    "prompt = \"\"\"Classify sentiment as Happy, Sad, Anxious, or Calm:\n",
    "\n",
    "1. Amazingly crafted and good!  \n",
    "2. This thing broke after the second use.  \n",
    "3. Yes, it looks good, but they don’t feel good.  \n",
    "4. Can’t wait to show them off to my partner!  \n",
    "5. I feel so exhausted today, nothing is going right.  \n",
    "6. Everything about this is perfect! I love it.  \n",
    "7. I really hope this turns out well, but I'm not sure.  \n",
    "8. Just another usual day, nothing special.  \n",
    "9. Why does this always happen to me? So frustrating.  \n",
    "10. Finally, some peace and quiet after a long day.  \n",
    "11. I’m worried about the test results, I can’t focus.  \n",
    "12. This is the best thing I’ve bought in a long time!  \n",
    "13. No matter what I do, I feel like I’m not good enough.  \n",
    "14. Just relaxing with a book and some tea, feels nice.  \n",
    "15. The service was horrible, I regret buying this.  \n",
    "16. I feel excited about what’s coming next!  \n",
    "17. My heart is racing, I hope I don’t mess this up.  \n",
    "18. Everything is so overwhelming right now, I need a break.  \n",
    "19. Such a beautiful day outside, feeling grateful!  \n",
    "20. I feel lonely even when I’m around people.  \n",
    "21. The way this was handled made me feel respected.  \n",
    "22. I can’t believe they ignored my messages, I feel awful.  \n",
    "23. Just taking things slow today, no rush.  \n",
    "24. Why am I overthinking this so much? It’s stressing me out.  \n",
    "25. I’m so proud of myself for finishing this task!  \n",
    "26. Nothing makes sense anymore, I feel lost.  \n",
    "27. I finally got some time to breathe and just be in the moment.  \n",
    "28. I feel like everything is falling apart, and I don’t know what to do.  \n",
    "29. Laughing with friends was the best part of my day!  \n",
    "30. My stomach is in knots thinking about tomorrow’s meeting.  \n",
    "\"\"\"\n"
   ]
  },
  {
   "cell_type": "code",
   "execution_count": 48,
   "metadata": {},
   "outputs": [],
   "source": [
    "response = client.chat.completions.create(\n",
    "    model=\"gpt-4o-mini\",\n",
    "    messages=[{\"role\": \"user\", \"content\": prompt}],\n",
    "    max_tokens=1000\n",
    ")"
   ]
  },
  {
   "cell_type": "code",
   "execution_count": 49,
   "metadata": {},
   "outputs": [
    {
     "name": "stdout",
     "output_type": "stream",
     "text": [
      "Here are the sentiments classified:\n",
      "\n",
      "1. Happy  \n",
      "2. Sad  \n",
      "3. Anxious  \n",
      "4. Happy  \n",
      "5. Sad  \n",
      "6. Happy  \n",
      "7. Anxious  \n",
      "8. Calm  \n",
      "9. Sad  \n",
      "10. Calm  \n",
      "11. Anxious  \n",
      "12. Happy  \n",
      "13. Sad  \n",
      "14. Calm  \n",
      "15. Sad  \n",
      "16. Happy  \n",
      "17. Anxious  \n",
      "18. Anxious  \n",
      "19. Happy  \n",
      "20. Sad  \n",
      "21. Happy  \n",
      "22. Sad  \n",
      "23. Calm  \n",
      "24. Anxious  \n",
      "25. Happy  \n",
      "26. Sad  \n",
      "27. Calm  \n",
      "28. Anxious  \n",
      "29. Happy  \n",
      "30. Anxious  \n"
     ]
    }
   ],
   "source": [
    "print(response.choices[0].message.content)"
   ]
  }
 ],
 "metadata": {
  "kernelspec": {
   "display_name": "venv",
   "language": "python",
   "name": "python3"
  },
  "language_info": {
   "codemirror_mode": {
    "name": "ipython",
    "version": 3
   },
   "file_extension": ".py",
   "mimetype": "text/x-python",
   "name": "python",
   "nbconvert_exporter": "python",
   "pygments_lexer": "ipython3",
   "version": "3.12.7"
  }
 },
 "nbformat": 4,
 "nbformat_minor": 2
}
